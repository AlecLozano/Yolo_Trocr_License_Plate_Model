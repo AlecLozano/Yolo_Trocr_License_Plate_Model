{
 "cells": [
  {
   "cell_type": "code",
   "execution_count": 2,
   "metadata": {},
   "outputs": [
    {
     "data": {
      "text/plain": [
       "device(type='cuda')"
      ]
     },
     "execution_count": 2,
     "metadata": {},
     "output_type": "execute_result"
    }
   ],
   "source": [
    "import torch\n",
    "\n",
    "device = torch.device(\"cuda\")\n",
    "device"
   ]
  },
  {
   "cell_type": "code",
   "execution_count": 3,
   "metadata": {},
   "outputs": [],
   "source": [
    "from PIL import Image, ImageDraw, ImageOps, ImageEnhance\n",
    "import PIL\n",
    "from transformers import YolosImageProcessor, YolosForObjectDetection, TrOCRProcessor, VisionEncoderDecoderModel\n",
    "from datasets import load_dataset\n",
    "from torchvision import transforms\n",
    "import torch.nn.functional as F\n",
    "import io"
   ]
  },
  {
   "cell_type": "code",
   "execution_count": 4,
   "metadata": {},
   "outputs": [
    {
     "name": "stderr",
     "output_type": "stream",
     "text": [
      "The `max_size` parameter is deprecated and will be removed in v4.26. Please specify in `size['longest_edge'] instead`.\n",
      "Config of the encoder: <class 'transformers.models.deit.modeling_deit.DeiTModel'> is overwritten by shared encoder config: DeiTConfig {\n",
      "  \"attention_probs_dropout_prob\": 0.0,\n",
      "  \"encoder_stride\": 16,\n",
      "  \"hidden_act\": \"gelu\",\n",
      "  \"hidden_dropout_prob\": 0.0,\n",
      "  \"hidden_size\": 384,\n",
      "  \"image_size\": 384,\n",
      "  \"initializer_range\": 0.02,\n",
      "  \"intermediate_size\": 1536,\n",
      "  \"layer_norm_eps\": 1e-12,\n",
      "  \"model_type\": \"deit\",\n",
      "  \"num_attention_heads\": 6,\n",
      "  \"num_channels\": 3,\n",
      "  \"num_hidden_layers\": 12,\n",
      "  \"patch_size\": 16,\n",
      "  \"qkv_bias\": true,\n",
      "  \"torch_dtype\": \"float32\",\n",
      "  \"transformers_version\": \"4.49.0\"\n",
      "}\n",
      "\n",
      "Config of the decoder: <class 'transformers.models.trocr.modeling_trocr.TrOCRForCausalLM'> is overwritten by shared decoder config: TrOCRConfig {\n",
      "  \"activation_dropout\": 0.0,\n",
      "  \"activation_function\": \"relu\",\n",
      "  \"add_cross_attention\": true,\n",
      "  \"attention_dropout\": 0.0,\n",
      "  \"bos_token_id\": 0,\n",
      "  \"classifier_dropout\": 0.0,\n",
      "  \"cross_attention_hidden_size\": 384,\n",
      "  \"d_model\": 256,\n",
      "  \"decoder_attention_heads\": 8,\n",
      "  \"decoder_ffn_dim\": 1024,\n",
      "  \"decoder_layerdrop\": 0.0,\n",
      "  \"decoder_layers\": 6,\n",
      "  \"decoder_start_token_id\": 2,\n",
      "  \"dropout\": 0.1,\n",
      "  \"eos_token_id\": 2,\n",
      "  \"init_std\": 0.02,\n",
      "  \"is_decoder\": true,\n",
      "  \"layernorm_embedding\": true,\n",
      "  \"max_position_embeddings\": 512,\n",
      "  \"model_type\": \"trocr\",\n",
      "  \"pad_token_id\": 1,\n",
      "  \"scale_embedding\": true,\n",
      "  \"tie_word_embeddings\": false,\n",
      "  \"torch_dtype\": \"float32\",\n",
      "  \"transformers_version\": \"4.49.0\",\n",
      "  \"use_cache\": false,\n",
      "  \"use_learned_position_embeddings\": true,\n",
      "  \"vocab_size\": 64044\n",
      "}\n",
      "\n"
     ]
    }
   ],
   "source": [
    "\n",
    "# Yolo model for plate detection and cropping\n",
    "yolo_processor = YolosImageProcessor.from_pretrained('nickmuchi/yolos-small-finetuned-license-plate-detection')\n",
    "yolo_model = YolosForObjectDetection.from_pretrained('nickmuchi/yolos-small-finetuned-license-plate-detection').to(device)\n",
    "\n",
    "# Load model that I trained\n",
    "trocr_processor = TrOCRProcessor.from_pretrained('GudaGuda05/Trocr_License_Plate', use_fast=False)\n",
    "trocr_model = VisionEncoderDecoderModel.from_pretrained('model/model.pt').to(device)\n"
   ]
  },
  {
   "cell_type": "code",
   "execution_count": 103,
   "metadata": {},
   "outputs": [],
   "source": [
    "from torchvision import transforms\n",
    "import torch.nn.functional as F\n",
    "import io\n",
    "\n",
    "# Using bounding boxes from YOLO model to \n",
    "# return list of cropped images that should\n",
    "# contain the license plates\n",
    "\n",
    "def crop_objects(boxes, image):\n",
    "    #padding_to = 400\n",
    "    images = []\n",
    "    for box in boxes:\n",
    "        normalized = len(box[box < 1]) == 4\n",
    "        \n",
    "        x_min, y_min, x_max, y_max = box\n",
    "\n",
    "        if normalized:\n",
    "            width, height = image.size\n",
    "            x_min = int(x_min * width)\n",
    "            y_min = int(y_min * height)\n",
    "            x_max = int(x_max * width)\n",
    "            y_max = int(y_max * height)\n",
    "\n",
    "        # Ensure valid coordinates\n",
    "        if x_min > x_max:\n",
    "            x_min, x_max = x_max, x_min\n",
    "        if y_min > y_max:\n",
    "            y_min, y_max = y_max, y_min\n",
    "\n",
    "        # Crop image\n",
    "        try:\n",
    "            img_cropped = image.crop([x_min, y_min, x_max, y_max])\n",
    "            images.append(img_cropped)\n",
    "        except:\n",
    "            print(x_min, y_min, x_max, y_max, normalized)\n",
    "            print(box)\n",
    "            image.show()\n",
    "            raise Exception\n",
    "\n",
    "    return images"
   ]
  },
  {
   "cell_type": "code",
   "execution_count": 104,
   "metadata": {},
   "outputs": [],
   "source": [
    "# Display the cropped images\n",
    "def show_images(images):\n",
    "    for image in images:\n",
    "        image.show()"
   ]
  },
  {
   "cell_type": "code",
   "execution_count": 108,
   "metadata": {},
   "outputs": [
    {
     "data": {
      "image/jpeg": "[encoded data removed]",
      "image/png": "[encoded data removed]",
      "text/plain": [
       "<PIL.PngImagePlugin.PngImageFile image mode=RGB size=86x98>"
      ]
     },
     "execution_count": 108,
     "metadata": {},
     "output_type": "execute_result"
    }
   ],
   "source": [
    "img = Image.open('image.png')\n",
    "px = yolo_processor(img, return_tensors='pt').pixel_values.to(device)\n",
    "output = yolo_processor.post_process_object_detection(yolo_model(px), threshold=.9)[0][\"boxes\"]\n",
    "img"
   ]
  },
  {
   "cell_type": "code",
   "execution_count": 107,
   "metadata": {},
   "outputs": [
    {
     "name": "stdout",
     "output_type": "stream",
     "text": [
      "tensor(0.0450, device='cuda:0', grad_fn=<UnbindBackward0>) tensor(0.0372, device='cuda:0', grad_fn=<UnbindBackward0>) tensor(0.9852, device='cuda:0', grad_fn=<UnbindBackward0>) tensor(1.0027, device='cuda:0', grad_fn=<UnbindBackward0>) False\n",
      "tensor([0.0450, 0.0372, 0.9852, 1.0027], device='cuda:0',\n",
      "       grad_fn=<UnbindBackward0>)\n"
     ]
    },
    {
     "ename": "Exception",
     "evalue": "",
     "output_type": "error",
     "traceback": [
      "\u001b[31m---------------------------------------------------------------------------\u001b[39m",
      "\u001b[31mTypeError\u001b[39m                                 Traceback (most recent call last)",
      "\u001b[36mCell\u001b[39m\u001b[36m \u001b[39m\u001b[32mIn[103]\u001b[39m\u001b[32m, line 32\u001b[39m, in \u001b[36mcrop_objects\u001b[39m\u001b[34m(boxes, image)\u001b[39m\n\u001b[32m     31\u001b[39m \u001b[38;5;28;01mtry\u001b[39;00m:\n\u001b[32m---> \u001b[39m\u001b[32m32\u001b[39m     img_cropped = \u001b[43mimage\u001b[49m\u001b[43m.\u001b[49m\u001b[43mcrop\u001b[49m\u001b[43m(\u001b[49m\u001b[43m[\u001b[49m\u001b[43mx_min\u001b[49m\u001b[43m,\u001b[49m\u001b[43m \u001b[49m\u001b[43my_min\u001b[49m\u001b[43m,\u001b[49m\u001b[43m \u001b[49m\u001b[43mx_max\u001b[49m\u001b[43m,\u001b[49m\u001b[43m \u001b[49m\u001b[43my_max\u001b[49m\u001b[43m]\u001b[49m\u001b[43m)\u001b[49m\n\u001b[32m     33\u001b[39m     images.append(img_cropped)\n",
      "\u001b[36mFile \u001b[39m\u001b[32mc:\\Users\\lozan\\OneDrive - East Carolina University\\ECU Materials\\Sophomore\\Spring\\Natural Language Processing\\HW\\Yolo\\Yolo_Trocr_License_Plate_Model\\venv\\Lib\\site-packages\\PIL\\Image.py:1311\u001b[39m, in \u001b[36mImage.crop\u001b[39m\u001b[34m(self, box)\u001b[39m\n\u001b[32m   1310\u001b[39m \u001b[38;5;28mself\u001b[39m.load()\n\u001b[32m-> \u001b[39m\u001b[32m1311\u001b[39m \u001b[38;5;28;01mreturn\u001b[39;00m \u001b[38;5;28mself\u001b[39m._new(\u001b[38;5;28;43mself\u001b[39;49m\u001b[43m.\u001b[49m\u001b[43m_crop\u001b[49m\u001b[43m(\u001b[49m\u001b[38;5;28;43mself\u001b[39;49m\u001b[43m.\u001b[49m\u001b[43mim\u001b[49m\u001b[43m,\u001b[49m\u001b[43m \u001b[49m\u001b[43mbox\u001b[49m\u001b[43m)\u001b[49m)\n",
      "\u001b[36mFile \u001b[39m\u001b[32mc:\\Users\\lozan\\OneDrive - East Carolina University\\ECU Materials\\Sophomore\\Spring\\Natural Language Processing\\HW\\Yolo\\Yolo_Trocr_License_Plate_Model\\venv\\Lib\\site-packages\\PIL\\Image.py:1327\u001b[39m, in \u001b[36mImage._crop\u001b[39m\u001b[34m(self, im, box)\u001b[39m\n\u001b[32m   1316\u001b[39m \u001b[38;5;250m\u001b[39m\u001b[33;03m\"\"\"\u001b[39;00m\n\u001b[32m   1317\u001b[39m \u001b[33;03mReturns a rectangular region from the core image object im.\u001b[39;00m\n\u001b[32m   1318\u001b[39m \n\u001b[32m   (...)\u001b[39m\u001b[32m   1324\u001b[39m \u001b[33;03m:returns: A core image object.\u001b[39;00m\n\u001b[32m   1325\u001b[39m \u001b[33;03m\"\"\"\u001b[39;00m\n\u001b[32m-> \u001b[39m\u001b[32m1327\u001b[39m x0, y0, x1, y1 = \u001b[38;5;28mmap\u001b[39m(\u001b[38;5;28mint\u001b[39m, \u001b[38;5;28mmap\u001b[39m(\u001b[38;5;28mround\u001b[39m, box))\n\u001b[32m   1329\u001b[39m absolute_values = (\u001b[38;5;28mabs\u001b[39m(x1 - x0), \u001b[38;5;28mabs\u001b[39m(y1 - y0))\n",
      "\u001b[31mTypeError\u001b[39m: type Tensor doesn't define __round__ method",
      "\nDuring handling of the above exception, another exception occurred:\n",
      "\u001b[31mException\u001b[39m                                 Traceback (most recent call last)",
      "\u001b[36mCell\u001b[39m\u001b[36m \u001b[39m\u001b[32mIn[107]\u001b[39m\u001b[32m, line 1\u001b[39m\n\u001b[32m----> \u001b[39m\u001b[32m1\u001b[39m cropped_imgs = \u001b[43mcrop_objects\u001b[49m\u001b[43m(\u001b[49m\u001b[43moutput\u001b[49m\u001b[43m,\u001b[49m\u001b[43m \u001b[49m\u001b[43mimg\u001b[49m\u001b[43m)\u001b[49m\n\u001b[32m      2\u001b[39m show_images(cropped_imgs)\n",
      "\u001b[36mCell\u001b[39m\u001b[36m \u001b[39m\u001b[32mIn[103]\u001b[39m\u001b[32m, line 38\u001b[39m, in \u001b[36mcrop_objects\u001b[39m\u001b[34m(boxes, image)\u001b[39m\n\u001b[32m     36\u001b[39m         \u001b[38;5;28mprint\u001b[39m(box)\n\u001b[32m     37\u001b[39m         image.show()\n\u001b[32m---> \u001b[39m\u001b[32m38\u001b[39m         \u001b[38;5;28;01mraise\u001b[39;00m \u001b[38;5;167;01mException\u001b[39;00m\n\u001b[32m     40\u001b[39m \u001b[38;5;28;01mreturn\u001b[39;00m images\n",
      "\u001b[31mException\u001b[39m: "
     ]
    }
   ],
   "source": [
    "cropped_imgs = crop_objects(output, img)\n",
    "show_images(cropped_imgs)"
   ]
  },
  {
   "cell_type": "code",
   "execution_count": null,
   "metadata": {},
   "outputs": [
    {
     "data": {
      "text/plain": [
       "['HH9552']"
      ]
     },
     "execution_count": 110,
     "metadata": {},
     "output_type": "execute_result"
    }
   ],
   "source": [
    "p_image = trocr_processor(cropped_imgs, return_tensors='pt').to(device).pixel_values\n",
    "trocr_output = trocr_model.generate(p_image)\n",
    "results = trocr_processor.post_process_image_text_to_text(trocr_output)\n",
    "results"
   ]
  }
 ],
 "metadata": {
  "kernelspec": {
   "display_name": "venv",
   "language": "python",
   "name": "python3"
  },
  "language_info": {
   "codemirror_mode": {
    "name": "ipython",
    "version": 3
   },
   "file_extension": ".py",
   "mimetype": "text/x-python",
   "name": "python",
   "nbconvert_exporter": "python",
   "pygments_lexer": "ipython3",
   "version": "3.11.9"
  }
 },
 "nbformat": 4,
 "nbformat_minor": 2
}
